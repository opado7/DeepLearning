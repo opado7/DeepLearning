{
 "cells": [
  {
   "cell_type": "code",
   "execution_count": 7,
   "id": "52f00dfd-1c5c-4a75-91b3-8c99277ac3e0",
   "metadata": {},
   "outputs": [
    {
     "name": "stdout",
     "output_type": "stream",
     "text": [
      "cuda:0\n"
     ]
    }
   ],
   "source": [
    "import math\n",
    "import torch\n",
    "import matplotlib.pyplot as plt\n",
    "import numpy as np\n",
    "import pandas as pd\n",
    "import torch.nn as nn\n",
    "import torch.optim as optim\n",
    "\n",
    "import torchvision\n",
    "import torchvision.transforms as transforms\n",
    "from torch.utils.data import TensorDataset, DataLoader, Dataset\n",
    "import torchvision.datasets as datasets\n",
    "\n",
    "device = torch.device(\"cuda:0\" if torch.cuda.is_available() else \"cpu\")\n",
    "print(device)"
   ]
  },
  {
   "cell_type": "code",
   "execution_count": null,
   "id": "77ff2447-56a3-4a9f-b1b8-269b0f314508",
   "metadata": {},
   "outputs": [],
   "source": [
    "image_sz = 64\n",
    "fake_sz = 100\n",
    "\n",
    "transform = transforms.Compose([\n",
    "    transforms.Resize((image_sz, image_sz)),\n",
    "    transforms.ToTensor(),\n",
    "    transforms.Normalize((0.5,), (0.5,))\n",
    "])\n",
    "\n",
    "train_dataset = datasets.MNIST(\n",
    "    root = \"./data\", train = True, download = True, transform = transform\n",
    ")\n",
    "\n",
    "batch_size = 128\n",
    "\n",
    "train_loader = DataLoader(\n",
    "    train_dataset, batch_size = batch_size, shuffle = True\n",
    ")"
   ]
  },
  {
   "cell_type": "code",
   "execution_count": 9,
   "id": "710d6d8b-4854-45d9-9ae0-51887ea25c52",
   "metadata": {},
   "outputs": [],
   "source": [
    "class Generator(nn.Module):\n",
    "    def __init__(self):\n",
    "        super(Generator, self).__init__()\n",
    "        # 생성자 구성 층 정의\n",
    "        self.gen = nn.Sequential(\n",
    "            nn.ConvTranspose2d(fake_sz, 512, kernel_size=4),\n",
    "            nn.BatchNorm2d(512),\n",
    "            nn.ReLU(),\n",
    "\n",
    "            nn.ConvTranspose2d(512, 256, kernel_size=4, stride=2, padding=1),\n",
    "            nn.BatchNorm2d(256),\n",
    "            nn.ReLU(),\n",
    "            \n",
    "            nn.ConvTranspose2d(256, 128, kernel_size=4, stride=2, padding=1),\n",
    "            nn.BatchNorm2d(128),\n",
    "            nn.ReLU(),\n",
    "            \n",
    "            nn.ConvTranspose2d(128, 64, kernel_size=4, stride=2, padding=1),\n",
    "            nn.BatchNorm2d(64),\n",
    "            nn.ReLU(),\n",
    "\n",
    "            nn.ConvTranspose2d(64, 1, kernel_size=4, stride=2, padding=1),\n",
    "            nn.Tanh()\n",
    "        )\n",
    "    def forward(self, x):\n",
    "        return self.gen(x)"
   ]
  },
  {
   "cell_type": "code",
   "execution_count": 5,
   "id": "68f15a39-cb37-4e32-8381-9de6fc39c0bf",
   "metadata": {},
   "outputs": [],
   "source": [
    "class Discriminator(nn.Module):\n",
    "    def __init__(self):\n",
    "        super(Discriminator, self).__init__()\n",
    "        self.disc = nn.Sequential(\n",
    "            nn.Conv2d(1, 64, kernel_size=4, stride=2, padding=1),\n",
    "            nn.BatchNorm2d(64),\n",
    "            nn.LeakyReLU(0.2),\n",
    "\n",
    "            nn.Conv2d(64, 128, kernel_size=4, stride = 2, padding=1),\n",
    "            nn.BatchNorm2d(128),\n",
    "            nn.LeakyReLU(0.2),\n",
    "\n",
    "            nn.Conv2d(128, 256, kernel_size=4, stride = 2, padding=1),\n",
    "            nn.BatchNorm2d(256),\n",
    "            nn.LeakyReLU(0.2),\n",
    "\n",
    "            nn.Conv2d(256, 512, kernel_size=4, stride = 2, padding=1),\n",
    "            nn.BatchNorm2d(512),\n",
    "            nn.LeakyReLU(0.2),\n",
    "\n",
    "            nn.Conv2d(512, 1, kernel_size=4),\n",
    "            nn.Sigmoid()\n",
    "        )\n",
    "    def forward(self, x):\n",
    "        return self.disc(x).view(-1, 1)"
   ]
  },
  {
   "cell_type": "code",
   "execution_count": 10,
   "id": "e8c4f420-5725-44a0-a9fa-10d6e04fe135",
   "metadata": {},
   "outputs": [
    {
     "name": "stdout",
     "output_type": "stream",
     "text": [
      "Generator(\n",
      "  (gen): Sequential(\n",
      "    (0): ConvTranspose2d(100, 512, kernel_size=(4, 4), stride=(1, 1))\n",
      "    (1): BatchNorm2d(512, eps=1e-05, momentum=0.1, affine=True, track_running_stats=True)\n",
      "    (2): ReLU()\n",
      "    (3): ConvTranspose2d(512, 256, kernel_size=(4, 4), stride=(2, 2), padding=(1, 1))\n",
      "    (4): BatchNorm2d(256, eps=1e-05, momentum=0.1, affine=True, track_running_stats=True)\n",
      "    (5): ReLU()\n",
      "    (6): ConvTranspose2d(256, 128, kernel_size=(4, 4), stride=(2, 2), padding=(1, 1))\n",
      "    (7): BatchNorm2d(128, eps=1e-05, momentum=0.1, affine=True, track_running_stats=True)\n",
      "    (8): ReLU()\n",
      "    (9): ConvTranspose2d(128, 64, kernel_size=(4, 4), stride=(2, 2), padding=(1, 1))\n",
      "    (10): BatchNorm2d(64, eps=1e-05, momentum=0.1, affine=True, track_running_stats=True)\n",
      "    (11): ReLU()\n",
      "    (12): ConvTranspose2d(64, 1, kernel_size=(4, 4), stride=(2, 2), padding=(1, 1))\n",
      "    (13): Tanh()\n",
      "  )\n",
      ")\n",
      "Discriminator(\n",
      "  (disc): Sequential(\n",
      "    (0): Conv2d(1, 64, kernel_size=(4, 4), stride=(2, 2), padding=(1, 1))\n",
      "    (1): BatchNorm2d(64, eps=1e-05, momentum=0.1, affine=True, track_running_stats=True)\n",
      "    (2): LeakyReLU(negative_slope=0.2)\n",
      "    (3): Conv2d(64, 128, kernel_size=(4, 4), stride=(2, 2), padding=(1, 1))\n",
      "    (4): BatchNorm2d(128, eps=1e-05, momentum=0.1, affine=True, track_running_stats=True)\n",
      "    (5): LeakyReLU(negative_slope=0.2)\n",
      "    (6): Conv2d(128, 256, kernel_size=(4, 4), stride=(2, 2), padding=(1, 1))\n",
      "    (7): BatchNorm2d(256, eps=1e-05, momentum=0.1, affine=True, track_running_stats=True)\n",
      "    (8): LeakyReLU(negative_slope=0.2)\n",
      "    (9): Conv2d(256, 512, kernel_size=(4, 4), stride=(2, 2), padding=(1, 1))\n",
      "    (10): BatchNorm2d(512, eps=1e-05, momentum=0.1, affine=True, track_running_stats=True)\n",
      "    (11): LeakyReLU(negative_slope=0.2)\n",
      "    (12): Conv2d(512, 1, kernel_size=(4, 4), stride=(1, 1))\n",
      "    (13): Sigmoid()\n",
      "  )\n",
      ")\n"
     ]
    }
   ],
   "source": [
    "generator = Generator().to(device)\n",
    "discriminator = Discriminator().to(device)\n",
    "print(generator)\n",
    "print(discriminator)"
   ]
  },
  {
   "cell_type": "code",
   "execution_count": 11,
   "id": "7afc4e17-efd5-4925-8d06-28fab81dd7cf",
   "metadata": {},
   "outputs": [],
   "source": [
    "optim_g = optim.Adam(generator.parameters(), lr=0.0001, betas=(0.5, 0.999)) # 모멘텀 계수(beta1, beta2)\n",
    "optim_d = optim.Adam(discriminator.parameters(), lr=0.0001, betas=(0.5, 0.999))\n",
    "\n",
    "criterion = nn.BCELoss()\n",
    "\n",
    "losses_g = []\n",
    "losses_d = []"
   ]
  },
  {
   "cell_type": "code",
   "execution_count": 14,
   "id": "08bf608e-eb44-4199-977a-be29bcb0c37c",
   "metadata": {},
   "outputs": [],
   "source": [
    "def train_discriminator(optimizer, data_real, data_fake):\n",
    "    b_size = data_real.size(0)\n",
    "    real_label = torch.ones(b_size, 1).to(device)\n",
    "    fake_label = torch.zeros(b_size, 1).to(device)\n",
    "    optimizer.zero_grad()\n",
    "    output_real = discriminator(data_real)\n",
    "    loss_real = criterion(output_real, real_label)\n",
    "    output_fake = discriminator(data_fake)\n",
    "    loss_fake = criterion(output_fake, fake_label)\n",
    "    loss_total = (loss_real + loss_fake)/2\n",
    "    loss_total.backward()\n",
    "    optimizer.step()\n",
    "    return loss_total"
   ]
  },
  {
   "cell_type": "code",
   "execution_count": 15,
   "id": "b4c81f57-d45f-458f-9314-1dbca63ec997",
   "metadata": {},
   "outputs": [],
   "source": [
    "def train_generator(optimizer, data_fake):\n",
    "    b_size = data_fake.size(0)\n",
    "    real_label = torch.ones(b_size, 1).to(device)\n",
    "    optimizer.zero_grad()\n",
    "    output = discriminator(data_fake)\n",
    "    loss = criterion(output, real_label)\n",
    "    loss.backward()\n",
    "    optimizer.step()\n",
    "    return loss"
   ]
  },
  {
   "cell_type": "code",
   "execution_count": 12,
   "id": "913ab896-d2ff-4fac-a766-8a4c6feb8083",
   "metadata": {},
   "outputs": [],
   "source": [
    "from torchvision.utils import save_image"
   ]
  },
  {
   "cell_type": "code",
   "execution_count": 17,
   "id": "660ea718-6018-4efd-9331-5c06ba33fcbb",
   "metadata": {},
   "outputs": [
    {
     "name": "stdout",
     "output_type": "stream",
     "text": [
      "Epoch 0 of 100\n",
      "Generator loss:2.69868755, Discriminator loss: 0.27426884\n",
      "Epoch 5 of 100\n",
      "Generator loss:3.73200750, Discriminator loss: 0.17345701\n",
      "Epoch 10 of 100\n",
      "Generator loss:3.38529706, Discriminator loss: 0.26180300\n",
      "Epoch 15 of 100\n",
      "Generator loss:3.95376301, Discriminator loss: 0.13501236\n",
      "Epoch 20 of 100\n",
      "Generator loss:3.56519294, Discriminator loss: 0.20520788\n",
      "Epoch 25 of 100\n",
      "Generator loss:5.25552225, Discriminator loss: 0.05075011\n",
      "Epoch 30 of 100\n",
      "Generator loss:5.96259975, Discriminator loss: 0.00749576\n",
      "Epoch 35 of 100\n",
      "Generator loss:3.75406551, Discriminator loss: 0.21927136\n",
      "Epoch 40 of 100\n",
      "Generator loss:6.92580080, Discriminator loss: 0.00284429\n",
      "Epoch 45 of 100\n",
      "Generator loss:6.95657110, Discriminator loss: 0.00289052\n",
      "Epoch 50 of 100\n",
      "Generator loss:5.88022327, Discriminator loss: 0.07074378\n",
      "Epoch 55 of 100\n",
      "Generator loss:4.64491844, Discriminator loss: 0.12522459\n",
      "Epoch 60 of 100\n",
      "Generator loss:5.42700481, Discriminator loss: 0.05718711\n",
      "Epoch 65 of 100\n",
      "Generator loss:4.57936144, Discriminator loss: 0.07499993\n",
      "Epoch 70 of 100\n",
      "Generator loss:8.05043983, Discriminator loss: 0.06557496\n",
      "Epoch 75 of 100\n",
      "Generator loss:5.99023294, Discriminator loss: 0.10343795\n",
      "Epoch 80 of 100\n",
      "Generator loss:7.71745348, Discriminator loss: 0.00141356\n",
      "Epoch 85 of 100\n",
      "Generator loss:3.83797240, Discriminator loss: 0.19320576\n",
      "Epoch 90 of 100\n",
      "Generator loss:5.27931738, Discriminator loss: 0.12351058\n",
      "Epoch 95 of 100\n",
      "Generator loss:5.12872982, Discriminator loss: 0.19299404\n"
     ]
    }
   ],
   "source": [
    "epochs = 100\n",
    "for epoch in range(epochs):\n",
    "    loss_g = 0.0\n",
    "    loss_d = 0.0\n",
    "    for idx, data in enumerate(train_loader):\n",
    "        image, _ = data\n",
    "        data_real = image.to(device)\n",
    "        b_size = len(data_real)\n",
    "        \n",
    "        data_fake = generator(torch.randn(b_size, fake_sz, 1, 1).to(device))\n",
    "        loss_d += train_discriminator(optim_d, data_real, data_fake)\n",
    "\n",
    "        data_fake = generator(torch.randn(b_size, fake_sz, 1, 1).to(device))\n",
    "        loss_g += train_generator(optim_g, data_fake)\n",
    "\n",
    "    epoch_loss_g = loss_g / idx\n",
    "    epoch_loss_d = loss_d / idx\n",
    "    losses_g.append(epoch_loss_g)\n",
    "    losses_d.append(epoch_loss_d)\n",
    "\n",
    "    if epoch%5==0:\n",
    "        print(f\"Epoch {epoch} of {epochs}\")\n",
    "        print(f\"Generator loss:{epoch_loss_g:.8f}, Discriminator loss: {epoch_loss_d:.8f}\")\n",
    "        save_image(data_fake[:25],\n",
    "                   f'{epoch}.png',\n",
    "                   nrow = 5,\n",
    "                   normalize = True)"
   ]
  },
  {
   "cell_type": "code",
   "execution_count": 19,
   "id": "dc29f728-b3b5-403d-bd3b-0ade05de4eac",
   "metadata": {},
   "outputs": [
    {
     "data": {
      "text/plain": [
       "<matplotlib.legend.Legend at 0x7d02f559e5c0>"
      ]
     },
     "execution_count": 19,
     "metadata": {},
     "output_type": "execute_result"
    },
    {
     "data": {
      "image/png": "[encoded data removed]",
      "text/plain": [
       "<Figure size 640x480 with 1 Axes>"
      ]
     },
     "metadata": {},
     "output_type": "display_data"
    }
   ],
   "source": [
    "plt.figure()\n",
    "plt.plot(torch.Tensor(losses_g), label = 'Generator Loss')\n",
    "plt.plot(torch.Tensor(losses_d), label = 'Discriminator Loss')\n",
    "plt.legend()"
   ]
  },
  {
   "cell_type": "code",
   "execution_count": null,
   "id": "98ec47fe-b6b3-486f-a912-a18a2c8fea11",
   "metadata": {},
   "outputs": [],
   "source": []
  }
 ],
 "metadata": {
  "kernelspec": {
   "display_name": "Python 3 (ipykernel)",
   "language": "python",
   "name": "python3"
  },
  "language_info": {
   "codemirror_mode": {
    "name": "ipython",
    "version": 3
   },
   "file_extension": ".py",
   "mimetype": "text/x-python",
   "name": "python",
   "nbconvert_exporter": "python",
   "pygments_lexer": "ipython3",
   "version": "3.10.12"
  }
 },
 "nbformat": 4,
 "nbformat_minor": 5
}
