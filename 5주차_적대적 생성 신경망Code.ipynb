{
 "cells": [
  {
   "cell_type": "code",
   "execution_count": 15,
   "id": "debf0348-6d89-4fae-b361-13f88ae46942",
   "metadata": {},
   "outputs": [
    {
     "name": "stdout",
     "output_type": "stream",
     "text": [
      "cuda:0\n"
     ]
    }
   ],
   "source": [
    "import math\n",
    "import torch\n",
    "import matplotlib.pyplot as plt\n",
    "import numpy as np\n",
    "import pandas as pd\n",
    "import torch.nn as nn\n",
    "import torch.optim as optim\n",
    "\n",
    "import torch.optim as optim\n",
    "import torchvision\n",
    "import torchvision.transforms as transforms\n",
    "from torch.utils.data import TensorDataset, DataLoader\n",
    "import torchvision.datasets as datasets\n",
    "\n",
    "device = torch.device(\"cuda:0\" if torch.cuda.is_available() else \"cpu\")\n",
    "print(device)"
   ]
  },
  {
   "cell_type": "code",
   "execution_count": null,
   "id": "3fa9732d-80bd-4327-bf45-6ca1cf0b6b29",
   "metadata": {},
   "outputs": [],
   "source": [
    "transform = transforms.Compose([\n",
    "    transforms.ToTensor(),\n",
    "    transforms.Normalize(0.5, 0.5)\n",
    "])\n",
    "\n",
    "train_dataset = datasets.MNIST(\n",
    "    root = \"./data\", train = True, download = True, transform = transform\n",
    ")\n",
    "\n",
    "batch_size = 512\n",
    "\n",
    "train_loader = DataLoader(\n",
    "    train_dataset, batch_size = batch_size, shuffle = True\n",
    ")"
   ]
  },
  {
   "cell_type": "code",
   "execution_count": 4,
   "id": "148ae247-ce87-4c72-8a28-3f1bbdccdf26",
   "metadata": {},
   "outputs": [],
   "source": [
    "nz = 128 # 잠재 벡터의 크기를 의미\n",
    "\n",
    "class Generator(nn.Module):\n",
    "    def __init__(self, nz):\n",
    "        super(Generator, self).__init__()\n",
    "        self.nz = nz\n",
    "        self.main = nn.Sequential(\n",
    "            nn.Linear(self.nz, 256),\n",
    "            nn.LeakyReLU(0.2),\n",
    "            nn.Linear(256, 512),\n",
    "            nn.LeakyReLU(0.2),\n",
    "            nn.Linear(512, 1024),\n",
    "            nn.LeakyReLU(0.2),\n",
    "            nn.Linear(1024, 784),\n",
    "            nn.Tanh()\n",
    "        )\n",
    "    def forward(self, x):\n",
    "        # 생성자 네트워크의 반환값은 배치크기 * 1 * 28 * 28(MNIST 크기)\n",
    "        return self.main(x).view(-1, 1, 28, 28)"
   ]
  },
  {
   "cell_type": "code",
   "execution_count": 5,
   "id": "9ee34d04-3092-4f86-9b32-a4627706658e",
   "metadata": {},
   "outputs": [],
   "source": [
    "# 판별자 네트워크\n",
    "class Discriminator(nn.Module):\n",
    "    def __init__(self):\n",
    "        super(Discriminator, self).__init__()\n",
    "        self.n_input = 784\n",
    "        self.main = nn.Sequential(\n",
    "        nn.Linear(self.n_input, 1024),\n",
    "            nn.LeakyReLU(0.2),\n",
    "            nn.Dropout(0.3),\n",
    "            nn.Linear(1024, 512),\n",
    "            nn.LeakyReLU(0.2),\n",
    "            nn.Dropout(0.3),\n",
    "            nn.Linear(512, 256),\n",
    "            nn.LeakyReLU(0.2),\n",
    "            nn.Dropout(0.3),\n",
    "            # 진짜, 가짜 따로 학습함으로 1개의 값으로 출력\n",
    "            nn.Linear(256, 1),\n",
    "            # 이미지가 진짜인지 가짜인지 0과 1사이의 값으로 반환\n",
    "            nn.Sigmoid()\n",
    "        )\n",
    "    def forward(self, x):\n",
    "        x = x.view(-1, 784)\n",
    "        return self.main(x)"
   ]
  },
  {
   "cell_type": "code",
   "execution_count": 6,
   "id": "c3bf99b4-de7b-44ae-8ea6-3b8a59225c9b",
   "metadata": {},
   "outputs": [
    {
     "name": "stdout",
     "output_type": "stream",
     "text": [
      "Generator(\n",
      "  (main): Sequential(\n",
      "    (0): Linear(in_features=128, out_features=256, bias=True)\n",
      "    (1): LeakyReLU(negative_slope=0.2)\n",
      "    (2): Linear(in_features=256, out_features=512, bias=True)\n",
      "    (3): LeakyReLU(negative_slope=0.2)\n",
      "    (4): Linear(in_features=512, out_features=1024, bias=True)\n",
      "    (5): LeakyReLU(negative_slope=0.2)\n",
      "    (6): Linear(in_features=1024, out_features=784, bias=True)\n",
      "    (7): Tanh()\n",
      "  )\n",
      ")\n",
      "Discriminator(\n",
      "  (main): Sequential(\n",
      "    (0): Linear(in_features=784, out_features=1024, bias=True)\n",
      "    (1): LeakyReLU(negative_slope=0.2)\n",
      "    (2): Dropout(p=0.3, inplace=False)\n",
      "    (3): Linear(in_features=1024, out_features=512, bias=True)\n",
      "    (4): LeakyReLU(negative_slope=0.2)\n",
      "    (5): Dropout(p=0.3, inplace=False)\n",
      "    (6): Linear(in_features=512, out_features=256, bias=True)\n",
      "    (7): LeakyReLU(negative_slope=0.2)\n",
      "    (8): Dropout(p=0.3, inplace=False)\n",
      "    (9): Linear(in_features=256, out_features=1, bias=True)\n",
      "    (10): Sigmoid()\n",
      "  )\n",
      ")\n"
     ]
    }
   ],
   "source": [
    "generator = Generator(nz).to(device)\n",
    "discriminator = Discriminator().to(device)\n",
    "print(generator)\n",
    "print(discriminator)"
   ]
  },
  {
   "cell_type": "code",
   "execution_count": 7,
   "id": "7018c53d-b299-4183-8bcc-ae5074bbaed2",
   "metadata": {},
   "outputs": [],
   "source": [
    "optim_g = optim.Adam(generator.parameters(), lr=0.0002)\n",
    "optim_d = optim.Adam(discriminator.parameters(), lr=0.0002)\n",
    "\n",
    "criterion = nn.BCELoss()\n",
    "\n",
    "losses_g = [] # 생성자 오차 저장\n",
    "losses_d = [] # 판별자 오차 저장\n",
    "images = []"
   ]
  },
  {
   "cell_type": "code",
   "execution_count": 12,
   "id": "52b83925-1866-40eb-bc78-2e9792bb2438",
   "metadata": {},
   "outputs": [],
   "source": [
    "def train_discriminator(optimizer, data_real, data_fake):\n",
    "    b_size = data_real.size(0)\n",
    "    real_label = torch.ones(b_size, 1).to(device)\n",
    "    fake_label = torch.zeros(b_size, 1).to(device)\n",
    "    optimizer.zero_grad()\n",
    "    output_real = discriminator(data_real)\n",
    "    loss_real = criterion(output_real, real_label)\n",
    "    output_fake = discriminator(data_fake)\n",
    "    loss_fake = criterion(output_fake, fake_label)\n",
    "    loss_total = (loss_real + loss_fake)/2\n",
    "    loss_total.backward()\n",
    "    optimizer.step()\n",
    "    return loss_total"
   ]
  },
  {
   "cell_type": "code",
   "execution_count": 13,
   "id": "54add18c-305c-4d30-8e0a-e19149d14adc",
   "metadata": {},
   "outputs": [],
   "source": [
    "def train_generator(optimizer, data_fake):\n",
    "    b_size = data_fake.size(0)\n",
    "    real_label = torch.ones(b_size, 1).to(device)\n",
    "    optimizer.zero_grad()\n",
    "    output = discriminator(data_fake)\n",
    "    loss = criterion(output, real_label)\n",
    "    loss.backward()\n",
    "    optimizer.step()\n",
    "    return loss"
   ]
  },
  {
   "cell_type": "code",
   "execution_count": 20,
   "id": "b582bee1-ba09-40ee-bd72-453a24052536",
   "metadata": {},
   "outputs": [
    {
     "name": "stdout",
     "output_type": "stream",
     "text": [
      "Epoch 20 of 500\n",
      "Generator loss:2.75507283, Discriminator loss: 0.28083867\n",
      "Epoch 40 of 500\n",
      "Generator loss:2.60426021, Discriminator loss: 0.32435343\n",
      "Epoch 60 of 500\n",
      "Generator loss:2.29103160, Discriminator loss: 0.33678076\n",
      "Epoch 80 of 500\n",
      "Generator loss:2.13568282, Discriminator loss: 0.37382865\n",
      "Epoch 100 of 500\n",
      "Generator loss:1.76652670, Discriminator loss: 0.43112102\n",
      "Epoch 120 of 500\n",
      "Generator loss:1.65260386, Discriminator loss: 0.46424326\n",
      "Epoch 140 of 500\n",
      "Generator loss:1.49890280, Discriminator loss: 0.48699513\n",
      "Epoch 160 of 500\n",
      "Generator loss:1.33734226, Discriminator loss: 0.52766508\n",
      "Epoch 180 of 500\n",
      "Generator loss:1.32498157, Discriminator loss: 0.54132318\n",
      "Epoch 200 of 500\n",
      "Generator loss:1.25443280, Discriminator loss: 0.54884541\n",
      "Epoch 220 of 500\n",
      "Generator loss:1.23234773, Discriminator loss: 0.55301899\n",
      "Epoch 240 of 500\n",
      "Generator loss:1.15455604, Discriminator loss: 0.57293969\n",
      "Epoch 260 of 500\n",
      "Generator loss:1.11352980, Discriminator loss: 0.58319438\n",
      "Epoch 280 of 500\n",
      "Generator loss:1.11379135, Discriminator loss: 0.58834726\n",
      "Epoch 300 of 500\n",
      "Generator loss:1.08525276, Discriminator loss: 0.59345573\n",
      "Epoch 320 of 500\n",
      "Generator loss:1.06241620, Discriminator loss: 0.60064149\n",
      "Epoch 340 of 500\n",
      "Generator loss:1.05003536, Discriminator loss: 0.60205722\n",
      "Epoch 360 of 500\n",
      "Generator loss:1.07023394, Discriminator loss: 0.60451818\n",
      "Epoch 380 of 500\n",
      "Generator loss:1.05357313, Discriminator loss: 0.60559487\n",
      "Epoch 400 of 500\n",
      "Generator loss:1.01160204, Discriminator loss: 0.61277735\n",
      "Epoch 420 of 500\n",
      "Generator loss:1.00430429, Discriminator loss: 0.61377460\n",
      "Epoch 440 of 500\n",
      "Generator loss:1.02132106, Discriminator loss: 0.60927558\n",
      "Epoch 460 of 500\n",
      "Generator loss:0.96726114, Discriminator loss: 0.62223399\n",
      "Epoch 480 of 500\n",
      "Generator loss:0.98022783, Discriminator loss: 0.61961287\n"
     ]
    }
   ],
   "source": [
    "epochs = 500\n",
    "for epoch in range(epochs):\n",
    "    loss_g = 0.0\n",
    "    loss_d = 0.0\n",
    "    for idx, data in enumerate(train_loader):\n",
    "        image,_ = data\n",
    "        data_real = image.to(device)\n",
    "        b_size = len(data_real)\n",
    "        \n",
    "        data_fake = generator(torch.randn(b_size, nz).to(device))\n",
    "        loss_d += train_discriminator(optim_d, data_real, data_fake)\n",
    "\n",
    "        data_fake = generator(torch.randn(b_size, nz).to(device))\n",
    "        loss_g += train_generator(optim_g, data_fake)\n",
    "\n",
    "    epoch_loss_g = loss_g / idx\n",
    "    epoch_loss_d = loss_d / idx\n",
    "    losses_g.append(epoch_loss_g)\n",
    "    losses_d.append(epoch_loss_d)\n",
    "\n",
    "    if epoch%20==0:\n",
    "        print(f\"Epoch {epoch} of {epochs}\")\n",
    "        print(f\"Generator loss:{epoch_loss_g:.8f}, Discriminator loss: {epoch_loss_d:.8f}\")"
   ]
  },
  {
   "cell_type": "code",
   "execution_count": 21,
   "id": "effada62-691c-4464-98b2-5031cdfbd9a5",
   "metadata": {},
   "outputs": [
    {
     "data": {
      "text/plain": [
       "<matplotlib.legend.Legend at 0x727e3d5c94b0>"
      ]
     },
     "execution_count": 21,
     "metadata": {},
     "output_type": "execute_result"
    },
    {
     "data": {
      "image/png": "[encoded data removed]",
      "text/plain": [
       "<Figure size 640x480 with 1 Axes>"
      ]
     },
     "metadata": {},
     "output_type": "display_data"
    }
   ],
   "source": [
    "plt.figure()\n",
    "plt.plot(torch.Tensor(losses_g), label = 'Generator loss')\n",
    "plt.plot(torch.Tensor(losses_d), label = 'Discriminator Loss')\n",
    "plt.legend()"
   ]
  },
  {
   "cell_type": "code",
   "execution_count": 25,
   "id": "e9b4bc2e-f566-4fa1-b324-597b2e202e71",
   "metadata": {},
   "outputs": [],
   "source": [
    "from torchvision.utils import save_image\n",
    "\n",
    "save_image(data_fake, 'result_fake.png', nrow=10, normalize = True)\n",
    "save_image(data_real, 'result_real.png', nrow=10, normalize = True)"
   ]
  },
  {
   "cell_type": "code",
   "execution_count": 24,
   "id": "d05b00cf-cffc-421f-a0be-5686da4457f3",
   "metadata": {},
   "outputs": [
    {
     "ename": "NameError",
     "evalue": "name 'fake_images' is not defined",
     "output_type": "error",
     "traceback": [
      "\u001b[0;31m---------------------------------------------------------------------------\u001b[0m",
      "\u001b[0;31mNameError\u001b[0m                                 Traceback (most recent call last)",
      "Cell \u001b[0;32mIn[24], line 3\u001b[0m\n\u001b[1;32m      1\u001b[0m \u001b[38;5;66;03m# 생성 이미지\u001b[39;00m\n\u001b[1;32m      2\u001b[0m \u001b[38;5;28;01mfor\u001b[39;00m i \u001b[38;5;129;01min\u001b[39;00m \u001b[38;5;28mrange\u001b[39m(\u001b[38;5;241m10\u001b[39m):\n\u001b[0;32m----> 3\u001b[0m     fake_images_img \u001b[38;5;241m=\u001b[39m np\u001b[38;5;241m.\u001b[39mreshape(\u001b[43mfake_images\u001b[49m\u001b[38;5;241m.\u001b[39mdata\u001b[38;5;241m.\u001b[39mcpu()\u001b[38;5;241m.\u001b[39mnumpy()[i],(\u001b[38;5;241m28\u001b[39m, \u001b[38;5;241m28\u001b[39m))\n\u001b[1;32m      4\u001b[0m     plt\u001b[38;5;241m.\u001b[39mimshow(fake_images_img, cmap\u001b[38;5;241m=\u001b[39m\u001b[38;5;124m'\u001b[39m\u001b[38;5;124mgray\u001b[39m\u001b[38;5;124m'\u001b[39m)\n\u001b[1;32m      5\u001b[0m     plt\u001b[38;5;241m.\u001b[39mshow()\n",
      "\u001b[0;31mNameError\u001b[0m: name 'fake_images' is not defined"
     ]
    }
   ],
   "source": [
    "# 생성 이미지\n",
    "for i in range(10):\n",
    "    fake_images_img = np.reshape(fake_images.data.cpu().numpy()[i],(28, 28))\n",
    "    plt.imshow(fake_images_img, cmap='gray')\n",
    "    plt.show()"
   ]
  }
 ],
 "metadata": {
  "kernelspec": {
   "display_name": "Python 3 (ipykernel)",
   "language": "python",
   "name": "python3"
  },
  "language_info": {
   "codemirror_mode": {
    "name": "ipython",
    "version": 3
   },
   "file_extension": ".py",
   "mimetype": "text/x-python",
   "name": "python",
   "nbconvert_exporter": "python",
   "pygments_lexer": "ipython3",
   "version": "3.10.12"
  }
 },
 "nbformat": 4,
 "nbformat_minor": 5
}
